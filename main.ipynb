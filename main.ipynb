{
 "cells": [
  {
   "cell_type": "code",
   "execution_count": 3,
   "metadata": {},
   "outputs": [],
   "source": [
    "import torch\n",
    "import torch.nn as nn\n",
    "import pandas as pd\n",
    "import numpy as np"
   ]
  },
  {
   "cell_type": "markdown",
   "metadata": {},
   "source": [
    "## AWGN 함수"
   ]
  },
  {
   "cell_type": "code",
   "execution_count": 4,
   "metadata": {},
   "outputs": [],
   "source": [
    "def awgn_(input, symbols, dB_snr):\n",
    "    snr = 10**(dB_snr/10)\n",
    "    signal_power = 1\n",
    "    awgn_power = signal_power / snr\n",
    "    awgn = torch.sqrt(awgn_power / 2)*(\n",
    "        torch.randn_like(input, dtype=torch.float32)+1j*torch.randn_like(symbols, dtype=torch.float32)\n",
    "    )\n",
    "    return input + awgn"
   ]
  },
  {
   "cell_type": "markdown",
   "metadata": {},
   "source": [
    "# 1. Deep Learning Decoder"
   ]
  },
  {
   "cell_type": "code",
   "execution_count": 5,
   "metadata": {},
   "outputs": [],
   "source": [
    "# QPSK Decoder Model\n",
    "class QPSKDemodulationModel(nn.Module):\n",
    "    def __init__(self):\n",
    "        super(QPSKDemodulationModel, self).__init__()\n",
    "        self.fc1 = nn.Linear(2, 64)\n",
    "        self.fc2 = nn.Linear(64, 64)\n",
    "        self.fc3 = nn.Linear(64, 2)\n",
    "        self.sigmoid = nn.Sigmoid()\n",
    "\n",
    "    def forward(self, x):\n",
    "        x = torch.relu(self.fc1(x))\n",
    "        x = torch.relu(self.fc2(x))\n",
    "        x = self.sigmoid(self.fc3(x))\n",
    "        return x"
   ]
  },
  {
   "cell_type": "code",
   "execution_count": null,
   "metadata": {},
   "outputs": [],
   "source": [
    "symbols, bits = generate_qpsk_data()\n",
    "noisy_symbols = symbols + 0.1 * (np.random.randn(len(symbols)) + 1j * np.random.randn(len(symbols)))  # 노이즈 추가\n",
    "X = np.column_stack((noisy_symbols.real, noisy_symbols.imag))\n",
    "y = bits\n",
    "\n",
    "# 학습 데이터와 테스트 데이터 분리\n",
    "X_train, X_test, y_train, y_test = train_test_split(X, y, test_size=0.2, random_state=42)\n",
    "\n",
    "# PyTorch 텐서로 변환\n",
    "X_train = torch.tensor(X_train, dtype=torch.float32)\n",
    "X_test = torch.tensor(X_test, dtype=torch.float32)\n",
    "y_train = torch.tensor(y_train, dtype=torch.float32)\n",
    "y_test = torch.tensor(y_test, dtype=torch.float32)\n",
    "\n",
    "# 모델 초기화\n",
    "model = QPSKDemodulationModel()\n",
    "criterion = nn.BCELoss()  # Binary Cross-Entropy Loss\n",
    "optimizer = optim.Adam(model.parameters(), lr=0.001)\n",
    "\n",
    "# 학습\n",
    "epochs = 10\n",
    "batch_size = 128\n",
    "for epoch in range(epochs):\n",
    "    model.train()\n",
    "    epoch_loss = 0\n",
    "    for i in range(0, len(X_train), batch_size):\n",
    "        X_batch = X_train[i:i+batch_size]\n",
    "        y_batch = y_train[i:i+batch_size]\n",
    "\n",
    "        optimizer.zero_grad()\n",
    "        outputs = model(X_batch)\n",
    "        loss = criterion(outputs, y_batch)\n",
    "        loss.backward()\n",
    "        optimizer.step()\n",
    "        epoch_loss += loss.item()\n",
    "\n",
    "    print(f\"Epoch {epoch+1}/{epochs}, Loss: {epoch_loss:.4f}\")\n",
    "\n",
    "# 복조 수행\n",
    "model.eval()\n",
    "with torch.no_grad():\n",
    "    predictions = model(X_test)\n",
    "    predicted_bits = (predictions > 0.5).int()\n",
    "\n",
    "# 정확도 평가\n",
    "accuracy = accuracy_score(y_test.numpy().flatten(), predicted_bits.numpy().flatten())\n",
    "print(f\"복조 정확도: {accuracy:.2f}\")"
   ]
  },
  {
   "cell_type": "code",
   "execution_count": null,
   "metadata": {},
   "outputs": [],
   "source": [
    "# BER 그래프\n",
    "import matplotlib as plt\n",
    "\n",
    "# BER 계산 함수\n",
    "def calculate_ber(original_bits, predicted_bits):\n",
    "    errors = (original_bits != predicted_bits).sum().item()\n",
    "    ber = errors / original_bits.numel()\n",
    "    return ber\n",
    "\n",
    "# BER 그래프 작성 함수\n",
    "def plot_ber(snr_range, ber_values):\n",
    "    plt.figure(figsize=(8, 6))\n",
    "    plt.plot(snr_range, ber_values, marker='o')\n",
    "    plt.title(\"BER vs SNR\")\n",
    "    plt.xlabel(\"SNR (dB)\")\n",
    "    plt.ylabel(\"Bit Error Rate (BER)\")\n",
    "    plt.grid(True)\n",
    "    plt.show()\n",
    "\n",
    "# SNR에 따른 BER 계산 및 그래프 작성\n",
    "def evaluate_and_plot_ber(model, X_test, y_test, snr_range):\n",
    "    ber_values = []\n",
    "    for snr_db in snr_range:\n",
    "        # 노이즈 추가\n",
    "        snr_linear = 10 ** (snr_db / 10)\n",
    "        signal_power = torch.mean(torch.abs(X_test)**2)\n",
    "        noise_power = signal_power / snr_linear\n",
    "        noise = torch.sqrt(noise_power / 2) * torch.randn_like(X_test)\n",
    "        noisy_test_signal = X_test + noise\n",
    "\n",
    "        # 복조 수행\n",
    "        model.eval()\n",
    "        with torch.no_grad():\n",
    "            predictions = model(noisy_test_signal)\n",
    "            predicted_bits = (predictions > 0.5).int()\n",
    "\n",
    "        # BER 계산\n",
    "        ber = calculate_ber(y_test, predicted_bits)\n",
    "        ber_values.append(ber)\n",
    "\n",
    "    # BER 그래프 작성\n",
    "    plot_ber(snr_range, ber_values)\n",
    "\n",
    "# SNR 범위 설정\n",
    "snr_range = range(0, 21, 2)  # 0 dB부터 20 dB까지 2 dB 간격\n",
    "\n",
    "# BER 평가 및 그래프 작성\n",
    "evaluate_and_plot_ber(model, X_test, y_test, snr_range)\n"
   ]
  }
 ],
 "metadata": {
  "kernelspec": {
   "display_name": "data-communication",
   "language": "python",
   "name": "python3"
  },
  "language_info": {
   "codemirror_mode": {
    "name": "ipython",
    "version": 3
   },
   "file_extension": ".py",
   "mimetype": "text/x-python",
   "name": "python",
   "nbconvert_exporter": "python",
   "pygments_lexer": "ipython3",
   "version": "3.12.7"
  }
 },
 "nbformat": 4,
 "nbformat_minor": 2
}
